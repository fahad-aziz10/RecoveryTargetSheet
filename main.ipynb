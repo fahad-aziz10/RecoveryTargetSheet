{
  "nbformat": 4,
  "nbformat_minor": 0,
  "metadata": {
    "colab": {
      "provenance": []
    },
    "kernelspec": {
      "name": "python3",
      "display_name": "Python 3"
    },
    "language_info": {
      "name": "python"
    }
  },
  "cells": [
    {
      "cell_type": "code",
      "execution_count": 36,
      "metadata": {
        "colab": {
          "base_uri": "https://localhost:8080/",
          "height": 34
        },
        "id": "x-NMhccqfJa1",
        "outputId": "2f8ac245-beff-4044-dbd0-5593bd588a0a"
      },
      "outputs": [
        {
          "output_type": "stream",
          "name": "stdout",
          "text": [
            "our login redirected to: http://116.71.135.214:36247/MIS/Menu.asp\n"
          ]
        },
        {
          "output_type": "display_data",
          "data": {
            "text/plain": [
              "<IPython.core.display.Javascript object>"
            ],
            "application/javascript": [
              "\n",
              "    async function download(id, filename, size) {\n",
              "      if (!google.colab.kernel.accessAllowed) {\n",
              "        return;\n",
              "      }\n",
              "      const div = document.createElement('div');\n",
              "      const label = document.createElement('label');\n",
              "      label.textContent = `Downloading \"${filename}\": `;\n",
              "      div.appendChild(label);\n",
              "      const progress = document.createElement('progress');\n",
              "      progress.max = size;\n",
              "      div.appendChild(progress);\n",
              "      document.body.appendChild(div);\n",
              "\n",
              "      const buffers = [];\n",
              "      let downloaded = 0;\n",
              "\n",
              "      const channel = await google.colab.kernel.comms.open(id);\n",
              "      // Send a message to notify the kernel that we're ready.\n",
              "      channel.send({})\n",
              "\n",
              "      for await (const message of channel.messages) {\n",
              "        // Send a message to notify the kernel that we're ready.\n",
              "        channel.send({})\n",
              "        if (message.buffers) {\n",
              "          for (const buffer of message.buffers) {\n",
              "            buffers.push(buffer);\n",
              "            downloaded += buffer.byteLength;\n",
              "            progress.value = downloaded;\n",
              "          }\n",
              "        }\n",
              "      }\n",
              "      const blob = new Blob(buffers, {type: 'application/binary'});\n",
              "      const a = document.createElement('a');\n",
              "      a.href = window.URL.createObjectURL(blob);\n",
              "      a.download = filename;\n",
              "      div.appendChild(a);\n",
              "      a.click();\n",
              "      div.remove();\n",
              "    }\n",
              "  "
            ]
          },
          "metadata": {}
        },
        {
          "output_type": "display_data",
          "data": {
            "text/plain": [
              "<IPython.core.display.Javascript object>"
            ],
            "application/javascript": [
              "download(\"download_6629826e-4d81-40ef-8977-ebfa7db248f3\", \"2024-02-11.xlsx\", 8449)"
            ]
          },
          "metadata": {}
        }
      ],
      "source": [
        "from google.colab import files\n",
        "\n",
        "from bs4 import BeautifulSoup\n",
        "import csv\n",
        "import requests#, xlsxwriter\n",
        "import pandas as pd\n",
        "import datetime\n",
        "\n",
        "def get_batch_group(batch):\n",
        "    if batch in ['01','05','09','13']:\n",
        "        return 'Mateen'\n",
        "    elif batch in ['02','06','10','14']:\n",
        "        return 'Faryad'\n",
        "    elif batch in ['03','07','11','15']:\n",
        "        return 'Liaqat'\n",
        "    elif batch in ['04','08','12','16']:\n",
        "        return 'Shah Nawaz'\n",
        "\n",
        "current_date = datetime.date.today()\n",
        "\n",
        "payload = {'UN': 'amo11216', 'PW': 'lesco123'}\n",
        "url     = 'http://116.71.135.214:36247/MIS/checklogin.asp'\n",
        "\n",
        "s = requests.Session()\n",
        "r = s.post(url, data=payload)\n",
        "try:\n",
        "    r.raise_for_status()\n",
        "except requests.exceptions.HTTPError:\n",
        "    print('oops bad status code {} on request!'.format(r.status_code))\n",
        "else:\n",
        "    print('our login redirected to: {}'.format(r.url))\n",
        "\n",
        "url   = 'http://116.71.135.214:36247/MIS/RECOVERY_BATCH_WISE_REV2.asp?offcode=11216&off=SUB%20DIVISION:11216%20(LIAQAT%20ABAD)'\n",
        "html  = s.get(url).text\n",
        "soup  = BeautifulSoup(html)\n",
        "table = soup.select_one(\"body > table:nth-child(2)\")\n",
        "\n",
        "header = []\n",
        "rows = []\n",
        "for i, row in enumerate(table.find_all('tr')):\n",
        "    if i in [0,1,2]:# i==0:\n",
        "        header = [el.text.strip() for el in row.find_all('th')]\n",
        "    else:\n",
        "        rows.append([el.text.strip() for el in row.find_all('td')])\n",
        "\n",
        "headers = ['BATCH','DUE DATE','COMP. BILLING','LPS LVD','PVT BILLING WITH LPS','GVT BILLING WITH LPS','TOTAL BILLING WITH LPS',\n",
        "'CUR ASMNT',\t'%AGE'\t,'ARREAR'\t,'%AGE',\t'P.DISC',\t'%AGE'\t,'PVT PMNT',\t'GVT PMNT',\t'TOTAL'\t,'%AGE',\n",
        "'GOVT CONS',\t'GOVT AMNT',\t'PVT CONS',\t'PVT AMNT',\t'P. DISC CONS'\t,'P. DISC AMNT',\t'TOTAL CONS',\t'TOTAL AMNT']\n",
        "df = pd.DataFrame(rows, columns = headers)\n",
        "\n",
        "df['LINEMAN']         = df['BATCH'].apply(get_batch_group)\n",
        "df['TARGET RUNNING']  = df['PVT AMNT'].apply(pd.to_numeric) * 0.1\n",
        "df['TARGET DEAD']     = df['P. DISC AMNT'].apply(pd.to_numeric) * 0.1\n",
        "\n",
        "df.to_excel(str(current_date) + '.xlsx')\n",
        "files.download(str(current_date) + '.xlsx')\n"
      ]
    },
    {
      "cell_type": "code",
      "source": [],
      "metadata": {
        "id": "rOHa_LGmkoeS"
      },
      "execution_count": null,
      "outputs": []
    }
  ]
}